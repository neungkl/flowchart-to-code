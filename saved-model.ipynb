{
 "cells": [
  {
   "cell_type": "code",
   "execution_count": null,
   "metadata": {},
   "outputs": [],
   "source": [
    "# 3\n",
    "from keras.layers import Input, Dense, Flatten, Concatenate, Conv2D, MaxPooling2D, Dropout, LSTM, RepeatVector\n",
    "from keras.optimizers import RMSprop\n",
    "from keras.models import Model\n",
    "\n",
    "def generate_model():\n",
    "    word_input = Input(shape=(PADDING_SIZE, N_ONEHOT_WORD))\n",
    "    image_input = Input(shape=(IMAGE_SIZE, IMAGE_SIZE, 1))\n",
    "    \n",
    "    img = Conv2D(32, (3, 3), padding='same', activation='relu')(image_input)\n",
    "    img = Conv2D(32, (3, 3), padding='same', activation='relu')(image_input)\n",
    "    img = MaxPooling2D((4,4))(img)\n",
    "    img = Conv2D(64, (3, 3), padding='same', activation='relu')(img)\n",
    "    img = Conv2D(64, (3, 3), padding='same', activation='relu')(img)\n",
    "    img = MaxPooling2D((4,4))(img)\n",
    "    img = Dropout(0.25)(img)\n",
    "    img = Conv2D(128, (3, 3), padding='same', activation='relu')(img)\n",
    "    img = Conv2D(128, (3, 3), padding='same', activation='relu')(img)\n",
    "    img = MaxPooling2D()(img)\n",
    "    \n",
    "    img = Flatten()(img)\n",
    "    img = Dense(1024, activation='relu')(img)\n",
    "    img = Dropout(0.3)(img)\n",
    "    img = Dense(1024, activation='relu')(img)\n",
    "    img = Dropout(0.3)(img)\n",
    "    \n",
    "    img = RepeatVector(PADDING_SIZE)(img)\n",
    "    \n",
    "    w = LSTM(64, return_sequences=True)(word_input)\n",
    "    w = LSTM(64, return_sequences=True)(w)\n",
    "    \n",
    "    x = Concatenate()([w, img])\n",
    "    x = LSTM(512, return_sequences=True, dropout=0.75)(x)\n",
    "    x = LSTM(512)(x)\n",
    "    \n",
    "    x = Dense(256, activation='relu')(x)\n",
    "    x = Dropout(0.5)(x)\n",
    "    \n",
    "    outputs = Dense(N_ONEHOT_WORD, activation='softmax')(x)\n",
    "\n",
    "    optimizer = RMSprop(lr=0.0001, clipvalue=1.0)\n",
    "    model = Model(inputs=[word_input, image_input], outputs=outputs)\n",
    "    model.compile(optimizer=optimizer,\n",
    "                  loss='categorical_crossentropy',\n",
    "                  metrics=['accuracy'])\n",
    "    \n",
    "    return model\n",
    "\n",
    "print(generate_model().summary())"
   ]
  }
 ],
 "metadata": {
  "kernelspec": {
   "display_name": "Python 3",
   "language": "python",
   "name": "python3"
  },
  "language_info": {
   "codemirror_mode": {
    "name": "ipython",
    "version": 3
   },
   "file_extension": ".py",
   "mimetype": "text/x-python",
   "name": "python",
   "nbconvert_exporter": "python",
   "pygments_lexer": "ipython3",
   "version": "3.5.2"
  }
 },
 "nbformat": 4,
 "nbformat_minor": 2
}
