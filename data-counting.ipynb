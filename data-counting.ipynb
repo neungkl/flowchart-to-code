{
 "cells": [
  {
   "cell_type": "code",
   "execution_count": 33,
   "metadata": {},
   "outputs": [],
   "source": [
    "import glob\n",
    "import numpy as np\n",
    "import re\n",
    "\n",
    "SAMPLE_SIZE = 5\n",
    "SPLIT_RATIO = 0.9"
   ]
  },
  {
   "cell_type": "code",
   "execution_count": 38,
   "metadata": {},
   "outputs": [
    {
     "name": "stdout",
     "output_type": "stream",
     "text": [
      "['./data/sample-5-15.jpg', './data/sample-5-8.jpg', './data/sample-5-9.jpg', './data/sample-5-1.jpg']\n",
      "['./data/sample-1-13.jpg', './data/sample-1-20.jpg', './data/sample-1-3.jpg', './data/sample-1-6.jpg', './data/sample-1-7.jpg', './data/sample-1-4.jpg']\n",
      "['./data/sample-2-19.jpg', './data/sample-2-8.jpg', './data/sample-2-9.jpg', './data/sample-2-1.jpg', './data/sample-2-3.jpg', './data/sample-2-6.jpg', './data/sample-2-17.jpg', './data/sample-2-12.jpg']\n",
      "['./data/sample-3-8.jpg', './data/sample-3-9.jpg', './data/sample-3-15.jpg', './data/sample-3-17.jpg', './data/sample-3-16.jpg', './data/sample-3-13.jpg', './data/sample-3-11.jpg', './data/sample-3-10.jpg', './data/sample-3-20.jpg', './data/sample-3-18.jpg', './data/sample-3-2.jpg', './data/sample-3-3.jpg', './data/sample-3-1.jpg', './data/sample-3-4.jpg', './data/sample-3-7.jpg']\n",
      "Train Count: 283\n",
      "['./data/sample-4-8.jpg', './data/sample-4-9.jpg', './data/sample-4-18.jpg', './data/sample-4-7.jpg', './data/sample-4-14.jpg', './data/sample-4-6.jpg', './data/sample-4-5.jpg', './data/sample-4-12.jpg', './data/sample-4-11.jpg', './data/sample-4-10.jpg']\n",
      "Test Count: 90\n"
     ]
    }
   ],
   "source": [
    "index = np.arange(SAMPLE_SIZE) + 1\n",
    "np.random.seed(1234)\n",
    "np.random.shuffle(index)\n",
    "\n",
    "split = (int) (SAMPLE_SIZE * SPLIT_RATIO)\n",
    "x_train_idx = index[0:split]\n",
    "x_test_idx = index[split:]\n",
    "\n",
    "def count_data(indexs):\n",
    "    count = 0\n",
    "    files = glob.glob(\"./data/*\")\n",
    "\n",
    "    for idx in indexs:\n",
    "        picture_files = list(filter(re.compile(\".\\/data\\/sample-\" + str(idx) + \"-\\d+.jpg\").search, files))\n",
    "        lang_file = list(filter(re.compile(\".\\/data\\/sample-\" + str(idx) + \"-\\d+.jpg\").search, files)))\n",
    "\n",
    "        if len(lang_file) == 0:\n",
    "            continue\n",
    "\n",
    "        with open(lang_file[0], 'r') as file:\n",
    "            lang = [l.strip().split(\" \")[0] for l in file.read().split(\"\\n\") if len(l)]\n",
    "\n",
    "        count += len(picture_files) * (len(lang) - 1)\n",
    "        \n",
    "    return count\n",
    "            \n",
    "print(\"Train Count: %d\" % count_data(x_train_idx))\n",
    "print(\"Test Count: %d\" % count_data(x_test_idx))"
   ]
  },
  {
   "cell_type": "code",
   "execution_count": null,
   "metadata": {},
   "outputs": [],
   "source": []
  }
 ],
 "metadata": {
  "kernelspec": {
   "display_name": "Python 3",
   "language": "python",
   "name": "python3"
  },
  "language_info": {
   "codemirror_mode": {
    "name": "ipython",
    "version": 3
   },
   "file_extension": ".py",
   "mimetype": "text/x-python",
   "name": "python",
   "nbconvert_exporter": "python",
   "pygments_lexer": "ipython3",
   "version": "3.5.2"
  }
 },
 "nbformat": 4,
 "nbformat_minor": 2
}
