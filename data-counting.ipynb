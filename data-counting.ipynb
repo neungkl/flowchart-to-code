{
 "cells": [
  {
   "cell_type": "code",
   "execution_count": 33,
   "metadata": {},
   "outputs": [],
   "source": [
    "import glob\n",
    "import numpy as np\n",
    "import re\n",
    "\n",
    "SAMPLE_SIZE = 5\n",
    "SPLIT_RATIO = 0.9"
   ]
  },
  {
   "cell_type": "code",
   "execution_count": 42,
   "metadata": {},
   "outputs": [
    {
     "name": "stdout",
     "output_type": "stream",
     "text": [
      "Train Count: 283\n",
      "Test Count: 90\n"
     ]
    }
   ],
   "source": [
    "index = np.arange(SAMPLE_SIZE) + 1\n",
    "np.random.seed(1234)\n",
    "np.random.shuffle(index)\n",
    "\n",
    "split = (int) (SAMPLE_SIZE * SPLIT_RATIO)\n",
    "x_train_idx = index[0:split]\n",
    "x_test_idx = index[split:]\n",
    "\n",
    "def count_data(indexs):\n",
    "    count = 0\n",
    "    files = glob.glob(\"./data/*\")\n",
    "\n",
    "    for i, idx in enumerate(indexs):\n",
    "        picture_files = list(filter(re.compile(\".\\/data\\/sample-\" + str(idx) + \"-\\d+.jpg\").search, files))\n",
    "        lang_file = list(filter(re.compile(\".\\/data\\/sample-\" + str(idx) + \"-lang.txt\").search, files))\n",
    "\n",
    "        if len(lang_file) == 0:\n",
    "            continue\n",
    "\n",
    "        with open(lang_file[0], 'r') as file:\n",
    "            lang = [l.strip().split(\" \")[0] for l in file.read().split(\"\\n\") if len(l)]\n",
    "            \n",
    "        if i % 10 == 0:\n",
    "            print(i)\n",
    "\n",
    "        count += len(picture_files) * (len(lang) - 1)\n",
    "        \n",
    "    return count\n",
    "            \n",
    "print(\"Train Count: %d\" % count_data(x_train_idx))\n",
    "print(\"Test Count: %d\" % count_data(x_test_idx))"
   ]
  },
  {
   "cell_type": "code",
   "execution_count": null,
   "metadata": {},
   "outputs": [],
   "source": []
  }
 ],
 "metadata": {
  "kernelspec": {
   "display_name": "Python 3",
   "language": "python",
   "name": "python3"
  },
  "language_info": {
   "codemirror_mode": {
    "name": "ipython",
    "version": 3
   },
   "file_extension": ".py",
   "mimetype": "text/x-python",
   "name": "python",
   "nbconvert_exporter": "python",
   "pygments_lexer": "ipython3",
   "version": "3.5.2"
  }
 },
 "nbformat": 4,
 "nbformat_minor": 2
}
