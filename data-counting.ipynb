{
 "cells": [
  {
   "cell_type": "code",
   "execution_count": 1,
   "metadata": {},
   "outputs": [],
   "source": [
    "import glob\n",
    "import numpy as np\n",
    "import pandas as pd\n",
    "import re\n",
    "\n",
    "SAMPLE_SIZE = 10890\n",
    "TRAIN_SPLIT_RATIO = 0.7\n",
    "VALIDATION_SPLIT_RATIO = 0.2"
   ]
  },
  {
   "cell_type": "code",
   "execution_count": 2,
   "metadata": {},
   "outputs": [],
   "source": [
    "index = np.arange(SAMPLE_SIZE) + 1\n",
    "np.random.seed(1234)\n",
    "np.random.shuffle(index)\n",
    "\n",
    "split = (int) (SAMPLE_SIZE * TRAIN_SPLIT_RATIO)\n",
    "split_val = (int) (SAMPLE_SIZE * (TRAIN_SPLIT_RATIO + VALIDATION_SPLIT_RATIO))\n",
    "x_train_idx = index[0:split]\n",
    "x_val_idx = index[split:split_val]\n",
    "x_test_idx = index[split_val:]"
   ]
  },
  {
   "cell_type": "code",
   "execution_count": null,
   "metadata": {},
   "outputs": [],
   "source": [
    "def count_data(indexs):\n",
    "    count = 0\n",
    "    files = glob.glob(\"./data/*\")\n",
    "\n",
    "    for i, idx in enumerate(indexs):\n",
    "        picture_files = list(filter(re.compile(\".\\/data\\/sample-\" + str(idx) + \"-\\d+.jpg\").search, files))\n",
    "        lang_file = list(filter(re.compile(\".\\/data\\/sample-\" + str(idx) + \"-lang.txt\").search, files))\n",
    "\n",
    "        if len(lang_file) == 0:\n",
    "            continue\n",
    "\n",
    "        len_lang = 0\n",
    "        with open(lang_file[0], 'r') as file:\n",
    "            for l in file.read().split(\"\\n\"):\n",
    "                if len(l):\n",
    "                    len_lang += 1\n",
    "            \n",
    "        if i % 10 == 0:\n",
    "            print(i)\n",
    "\n",
    "        count += len(picture_files) * (len_lang - 1)\n",
    "        \n",
    "    return count\n",
    "            \n",
    "# print(\"Train Count: %d\" % count_data(x_train_idx))\n",
    "# print(\"Test Count: %d\" % count_data(x_test_idx))"
   ]
  },
  {
   "cell_type": "code",
   "execution_count": null,
   "metadata": {},
   "outputs": [],
   "source": [
    "def count_ae(indexs):\n",
    "    count = 0\n",
    "    files = glob.glob(\"./data/*\")\n",
    "\n",
    "    for i, idx in enumerate(indexs):\n",
    "        picture_files = list(filter(re.compile(\".\\/data\\/sample-\" + str(idx) + \"-\\d+.jpg\").search, files))\n",
    "        count += len(picture_files)\n",
    "        \n",
    "        if i % 100 == 0:\n",
    "            print(i)\n",
    "        \n",
    "    return count\n",
    "\n",
    "# print(\"Train AE: %d\" % count_ae(x_train_idx))\n",
    "# print(\"Test AE: %d\" % count_ae(x_test_idx))"
   ]
  },
  {
   "cell_type": "code",
   "execution_count": 3,
   "metadata": {},
   "outputs": [
    {
     "name": "stdout",
     "output_type": "stream",
     "text": [
      "0/10890\n",
      "200/10890\n",
      "400/10890\n",
      "600/10890\n",
      "800/10890\n",
      "1000/10890\n",
      "1200/10890\n",
      "1400/10890\n",
      "1600/10890\n",
      "1800/10890\n",
      "2000/10890\n",
      "2200/10890\n",
      "2400/10890\n",
      "2600/10890\n",
      "2800/10890\n",
      "3000/10890\n",
      "3200/10890\n",
      "3400/10890\n",
      "3600/10890\n",
      "3800/10890\n",
      "4000/10890\n",
      "4200/10890\n",
      "4400/10890\n",
      "4600/10890\n",
      "4800/10890\n",
      "5000/10890\n",
      "5200/10890\n",
      "5400/10890\n",
      "5600/10890\n",
      "5800/10890\n",
      "6000/10890\n",
      "6200/10890\n",
      "6400/10890\n",
      "6600/10890\n",
      "6800/10890\n",
      "7000/10890\n",
      "7200/10890\n",
      "7400/10890\n",
      "7600/10890\n",
      "Train Count: 514829\n",
      "0/10890\n",
      "200/10890\n",
      "400/10890\n",
      "600/10890\n",
      "800/10890\n",
      "1000/10890\n",
      "1200/10890\n",
      "1400/10890\n",
      "1600/10890\n",
      "1800/10890\n",
      "2000/10890\n",
      "Validate Count: 147427\n",
      "0/10890\n",
      "200/10890\n",
      "400/10890\n",
      "600/10890\n",
      "800/10890\n",
      "1000/10890\n",
      "Test Count: 75191\n"
     ]
    }
   ],
   "source": [
    "def count_data_2(indexs):\n",
    "    count = 0\n",
    "    files = glob.glob(\"./data/*\")\n",
    "\n",
    "    for i, idx in enumerate(indexs):\n",
    "        block_pos_files = list(filter(re.compile(\".\\/data\\/sample-\" + str(idx) + \"-\\d+-block-pos.csv\").search, files))\n",
    "            \n",
    "        if len(block_pos_files) == 0:\n",
    "            continue\n",
    "\n",
    "        dat = pd.read_csv(block_pos_files[0], header=None)\n",
    "        count += len(block_pos_files) * dat.shape[0]\n",
    "        \n",
    "        if i % 200 == 0:\n",
    "            print(\"{}/{}\".format(i, SAMPLE_SIZE))\n",
    "        \n",
    "    return count\n",
    "            \n",
    "print(\"Train Count: %d\" % count_data_2(x_train_idx))\n",
    "print(\"Validate Count: %d\" % count_data_2(x_val_idx))\n",
    "print(\"Test Count: %d\" % count_data_2(x_test_idx))"
   ]
  },
  {
   "cell_type": "code",
   "execution_count": 3,
   "metadata": {},
   "outputs": [
    {
     "name": "stdout",
     "output_type": "stream",
     "text": [
      "0/10890\n"
     ]
    },
    {
     "ename": "KeyboardInterrupt",
     "evalue": "",
     "output_type": "error",
     "traceback": [
      "\u001b[0;31m\u001b[0m",
      "\u001b[0;31mKeyboardInterrupt\u001b[0mTraceback (most recent call last)",
      "\u001b[0;32m<ipython-input-3-63da9b5baa4a>\u001b[0m in \u001b[0;36m<module>\u001b[0;34m()\u001b[0m\n\u001b[1;32m     11\u001b[0m             \u001b[0mprint\u001b[0m\u001b[0;34m(\u001b[0m\u001b[0;34m\"{}/{}\"\u001b[0m\u001b[0;34m.\u001b[0m\u001b[0mformat\u001b[0m\u001b[0;34m(\u001b[0m\u001b[0mi\u001b[0m\u001b[0;34m,\u001b[0m \u001b[0mSAMPLE_SIZE\u001b[0m\u001b[0;34m)\u001b[0m\u001b[0;34m)\u001b[0m\u001b[0;34m\u001b[0m\u001b[0m\n\u001b[1;32m     12\u001b[0m \u001b[0;34m\u001b[0m\u001b[0m\n\u001b[0;32m---> 13\u001b[0;31m \u001b[0mprint\u001b[0m\u001b[0;34m(\u001b[0m\u001b[0;34m\"Train Count: %d\"\u001b[0m \u001b[0;34m%\u001b[0m \u001b[0mcount_data_3\u001b[0m\u001b[0;34m(\u001b[0m\u001b[0mx_train_idx\u001b[0m\u001b[0;34m)\u001b[0m\u001b[0;34m)\u001b[0m\u001b[0;34m\u001b[0m\u001b[0m\n\u001b[0m\u001b[1;32m     14\u001b[0m \u001b[0mprint\u001b[0m\u001b[0;34m(\u001b[0m\u001b[0;34m\"Validate Count: %d\"\u001b[0m \u001b[0;34m%\u001b[0m \u001b[0mcount_data_3\u001b[0m\u001b[0;34m(\u001b[0m\u001b[0mx_val_idx\u001b[0m\u001b[0;34m)\u001b[0m\u001b[0;34m)\u001b[0m\u001b[0;34m\u001b[0m\u001b[0m\n\u001b[1;32m     15\u001b[0m \u001b[0mprint\u001b[0m\u001b[0;34m(\u001b[0m\u001b[0;34m\"Test Count: %d\"\u001b[0m \u001b[0;34m%\u001b[0m \u001b[0mcount_data_3\u001b[0m\u001b[0;34m(\u001b[0m\u001b[0mx_test_idx\u001b[0m\u001b[0;34m)\u001b[0m\u001b[0;34m)\u001b[0m\u001b[0;34m\u001b[0m\u001b[0m\n",
      "\u001b[0;32m<ipython-input-3-63da9b5baa4a>\u001b[0m in \u001b[0;36mcount_data_3\u001b[0;34m(indexs)\u001b[0m\n\u001b[1;32m      4\u001b[0m \u001b[0;34m\u001b[0m\u001b[0m\n\u001b[1;32m      5\u001b[0m     \u001b[0;32mfor\u001b[0m \u001b[0mi\u001b[0m\u001b[0;34m,\u001b[0m \u001b[0midx\u001b[0m \u001b[0;32min\u001b[0m \u001b[0menumerate\u001b[0m\u001b[0;34m(\u001b[0m\u001b[0mindexs\u001b[0m\u001b[0;34m)\u001b[0m\u001b[0;34m:\u001b[0m\u001b[0;34m\u001b[0m\u001b[0m\n\u001b[0;32m----> 6\u001b[0;31m         \u001b[0mblock_pos_files\u001b[0m \u001b[0;34m=\u001b[0m \u001b[0mlist\u001b[0m\u001b[0;34m(\u001b[0m\u001b[0mfilter\u001b[0m\u001b[0;34m(\u001b[0m\u001b[0mre\u001b[0m\u001b[0;34m.\u001b[0m\u001b[0mcompile\u001b[0m\u001b[0;34m(\u001b[0m\u001b[0;34m\".\\/data\\/sample-\"\u001b[0m \u001b[0;34m+\u001b[0m \u001b[0mstr\u001b[0m\u001b[0;34m(\u001b[0m\u001b[0midx\u001b[0m\u001b[0;34m)\u001b[0m \u001b[0;34m+\u001b[0m \u001b[0;34m\"-\\d+-block-pos.csv\"\u001b[0m\u001b[0;34m)\u001b[0m\u001b[0;34m.\u001b[0m\u001b[0msearch\u001b[0m\u001b[0;34m,\u001b[0m \u001b[0mfiles\u001b[0m\u001b[0;34m)\u001b[0m\u001b[0;34m)\u001b[0m\u001b[0;34m\u001b[0m\u001b[0m\n\u001b[0m\u001b[1;32m      7\u001b[0m \u001b[0;34m\u001b[0m\u001b[0m\n\u001b[1;32m      8\u001b[0m         \u001b[0mcount\u001b[0m \u001b[0;34m+=\u001b[0m \u001b[0mlen\u001b[0m\u001b[0;34m(\u001b[0m\u001b[0mblock_pos_files\u001b[0m\u001b[0;34m)\u001b[0m\u001b[0;34m\u001b[0m\u001b[0m\n",
      "\u001b[0;31mKeyboardInterrupt\u001b[0m: "
     ]
    }
   ],
   "source": [
    "def count_data_3():\n",
    "    count = 0\n",
    "    files = glob.glob(\"./data/*\")\n",
    "    \n",
    "    print(\"%d\" % len())\n",
    "\n",
    "    for i, idx in enumerate(indexs):\n",
    "        block_pos_files = list(filter(re.compile(\".\\/data\\/sample-\" + str(idx) + \"-\\d+-block-pos.csv\").search, files))\n",
    "\n",
    "        count += len(block_pos_files)\n",
    "        \n",
    "        if i % 200 == 0:\n",
    "            print(\"{}/{}\".format(i, SAMPLE_SIZE))\n",
    "            \n",
    "print(\"Train Count: %d\" % count_data_3(x_train_idx))\n",
    "print(\"Validate Count: %d\" % count_data_3(x_val_idx))\n",
    "print(\"Test Count: %d\" % count_data_3(x_test_idx))"
   ]
  },
  {
   "cell_type": "code",
   "execution_count": null,
   "metadata": {},
   "outputs": [],
   "source": []
  }
 ],
 "metadata": {
  "kernelspec": {
   "display_name": "Python 3",
   "language": "python",
   "name": "python3"
  },
  "language_info": {
   "codemirror_mode": {
    "name": "ipython",
    "version": 3
   },
   "file_extension": ".py",
   "mimetype": "text/x-python",
   "name": "python",
   "nbconvert_exporter": "python",
   "pygments_lexer": "ipython3",
   "version": "3.5.2"
  }
 },
 "nbformat": 4,
 "nbformat_minor": 2
}
